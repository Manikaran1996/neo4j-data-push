{
 "cells": [
  {
   "cell_type": "code",
   "execution_count": 1,
   "metadata": {
    "collapsed": true
   },
   "outputs": [],
   "source": [
    "import pandas as pd\n",
    "import json\n",
    "import numpy\n",
    "from py2neo import Graph, Node"
   ]
  },
  {
   "cell_type": "code",
   "execution_count": 2,
   "metadata": {
    "collapsed": true
   },
   "outputs": [],
   "source": [
    "fileName = 'corecomp1.csv'"
   ]
  },
  {
   "cell_type": "code",
   "execution_count": 3,
   "metadata": {
    "collapsed": true
   },
   "outputs": [],
   "source": [
    "companyData = pd.read_csv(fileName, delimiter=',')"
   ]
  },
  {
   "cell_type": "code",
   "execution_count": 4,
   "metadata": {},
   "outputs": [
    {
     "data": {
      "text/html": [
       "<div>\n",
       "<style scoped>\n",
       "    .dataframe tbody tr th:only-of-type {\n",
       "        vertical-align: middle;\n",
       "    }\n",
       "\n",
       "    .dataframe tbody tr th {\n",
       "        vertical-align: top;\n",
       "    }\n",
       "\n",
       "    .dataframe thead th {\n",
       "        text-align: right;\n",
       "    }\n",
       "</style>\n",
       "<table border=\"1\" class=\"dataframe\">\n",
       "  <thead>\n",
       "    <tr style=\"text-align: right;\">\n",
       "      <th></th>\n",
       "      <th>cin</th>\n",
       "      <th>company_name</th>\n",
       "      <th>date_of_incorporation</th>\n",
       "      <th>class_of_company</th>\n",
       "      <th>company_category</th>\n",
       "      <th>company_subcategory</th>\n",
       "      <th>registration_number</th>\n",
       "      <th>roc_code</th>\n",
       "      <th>registered_address</th>\n",
       "      <th>email_id</th>\n",
       "      <th>company_status</th>\n",
       "      <th>number_of_members</th>\n",
       "      <th>date_of_last_agm</th>\n",
       "      <th>authorised_capital</th>\n",
       "      <th>whether_listed_or_not</th>\n",
       "      <th>date_of_balance_sheet</th>\n",
       "      <th>paid_up_capital</th>\n",
       "    </tr>\n",
       "  </thead>\n",
       "  <tbody>\n",
       "    <tr>\n",
       "      <th>0</th>\n",
       "      <td>L00000CH1983PLC031318</td>\n",
       "      <td>SAB INDUSTRIES LIMITED</td>\n",
       "      <td>16/02/1983</td>\n",
       "      <td>Public</td>\n",
       "      <td>Company limited by Shares</td>\n",
       "      <td>Non-govt company</td>\n",
       "      <td>31318</td>\n",
       "      <td>RoC-Chandigarh</td>\n",
       "      <td>S.C.O. 49-50  SECTOR - 26  MADHYA MARG CHANDIG...</td>\n",
       "      <td>ssl_ssg@glide.net.in</td>\n",
       "      <td>Active</td>\n",
       "      <td>0</td>\n",
       "      <td>30/09/2016</td>\n",
       "      <td>2.000000e+08</td>\n",
       "      <td>Listed</td>\n",
       "      <td>31/03/2016</td>\n",
       "      <td>1.518840e+08</td>\n",
       "    </tr>\n",
       "    <tr>\n",
       "      <th>1</th>\n",
       "      <td>L00000CH1990PLC010573</td>\n",
       "      <td>LAKSHMI ENERGY AND FOODS LIMITED</td>\n",
       "      <td>20/07/1990</td>\n",
       "      <td>Public</td>\n",
       "      <td>Company limited by Shares</td>\n",
       "      <td>Non-govt company</td>\n",
       "      <td>10573</td>\n",
       "      <td>RoC-Chandigarh</td>\n",
       "      <td>SCO 18 19 1ST FLOORSECTOR 9 D CHANDIGARH U T C...</td>\n",
       "      <td>corporate@lakshmigroup.in</td>\n",
       "      <td>Active</td>\n",
       "      <td>0</td>\n",
       "      <td>28/09/2016</td>\n",
       "      <td>2.000000e+08</td>\n",
       "      <td>Listed</td>\n",
       "      <td>31/03/2016</td>\n",
       "      <td>1.399400e+08</td>\n",
       "    </tr>\n",
       "    <tr>\n",
       "      <th>2</th>\n",
       "      <td>L00000CH1994PLC015150</td>\n",
       "      <td>KOHINOOR BROADCASTING CORPORATION LIMITED</td>\n",
       "      <td>11/10/1994</td>\n",
       "      <td>Public</td>\n",
       "      <td>Company limited by Shares</td>\n",
       "      <td>Non-govt company</td>\n",
       "      <td>15150</td>\n",
       "      <td>RoC-Chandigarh</td>\n",
       "      <td>SCO 87  2nd Floor  Sector 46-C Chandigarh Chan...</td>\n",
       "      <td>mail@kohinoorbroadcasting.com</td>\n",
       "      <td>Active</td>\n",
       "      <td>0</td>\n",
       "      <td>23/09/2014</td>\n",
       "      <td>1.160000e+09</td>\n",
       "      <td>Listed</td>\n",
       "      <td>31/03/2014</td>\n",
       "      <td>1.102060e+09</td>\n",
       "    </tr>\n",
       "    <tr>\n",
       "      <th>3</th>\n",
       "      <td>L00000HP1994PLC014770</td>\n",
       "      <td>HITKARI INDUSTRIES LIMITED</td>\n",
       "      <td>29/06/1994</td>\n",
       "      <td>Public</td>\n",
       "      <td>Company limited by Shares</td>\n",
       "      <td>Non-govt company</td>\n",
       "      <td>14770</td>\n",
       "      <td>RoC-HimachalPradesh</td>\n",
       "      <td>PLOT NO 18 SECTOR 1INDUSTRIAL AREA PARWANOO SO...</td>\n",
       "      <td>sachdevakk@hotmail.com</td>\n",
       "      <td>Active</td>\n",
       "      <td>0</td>\n",
       "      <td>30/09/2015</td>\n",
       "      <td>6.000000e+07</td>\n",
       "      <td>Listed</td>\n",
       "      <td>31/03/2015</td>\n",
       "      <td>3.205470e+07</td>\n",
       "    </tr>\n",
       "    <tr>\n",
       "      <th>4</th>\n",
       "      <td>L00000MH1946PLC197474</td>\n",
       "      <td>QUADRANT TELEVENTURES LIMITED</td>\n",
       "      <td>02/08/1946</td>\n",
       "      <td>Public</td>\n",
       "      <td>Company limited by Shares</td>\n",
       "      <td>Non-govt company</td>\n",
       "      <td>197474</td>\n",
       "      <td>RoC-Mumbai</td>\n",
       "      <td>AUTOCARS COMPOUND ADALAT ROAD AURANGABAD MH 43...</td>\n",
       "      <td>secretarial@infotelconnect.com</td>\n",
       "      <td>Active</td>\n",
       "      <td>0</td>\n",
       "      <td>21/07/2016</td>\n",
       "      <td>1.500000e+10</td>\n",
       "      <td>Listed</td>\n",
       "      <td>31/03/2016</td>\n",
       "      <td>6.122600e+08</td>\n",
       "    </tr>\n",
       "  </tbody>\n",
       "</table>\n",
       "</div>"
      ],
      "text/plain": [
       "                     cin                               company_name  \\\n",
       "0  L00000CH1983PLC031318                     SAB INDUSTRIES LIMITED   \n",
       "1  L00000CH1990PLC010573           LAKSHMI ENERGY AND FOODS LIMITED   \n",
       "2  L00000CH1994PLC015150  KOHINOOR BROADCASTING CORPORATION LIMITED   \n",
       "3  L00000HP1994PLC014770                 HITKARI INDUSTRIES LIMITED   \n",
       "4  L00000MH1946PLC197474              QUADRANT TELEVENTURES LIMITED   \n",
       "\n",
       "  date_of_incorporation class_of_company           company_category  \\\n",
       "0            16/02/1983           Public  Company limited by Shares   \n",
       "1            20/07/1990           Public  Company limited by Shares   \n",
       "2            11/10/1994           Public  Company limited by Shares   \n",
       "3            29/06/1994           Public  Company limited by Shares   \n",
       "4            02/08/1946           Public  Company limited by Shares   \n",
       "\n",
       "  company_subcategory  registration_number             roc_code  \\\n",
       "0    Non-govt company                31318       RoC-Chandigarh   \n",
       "1    Non-govt company                10573       RoC-Chandigarh   \n",
       "2    Non-govt company                15150       RoC-Chandigarh   \n",
       "3    Non-govt company                14770  RoC-HimachalPradesh   \n",
       "4    Non-govt company               197474           RoC-Mumbai   \n",
       "\n",
       "                                  registered_address  \\\n",
       "0  S.C.O. 49-50  SECTOR - 26  MADHYA MARG CHANDIG...   \n",
       "1  SCO 18 19 1ST FLOORSECTOR 9 D CHANDIGARH U T C...   \n",
       "2  SCO 87  2nd Floor  Sector 46-C Chandigarh Chan...   \n",
       "3  PLOT NO 18 SECTOR 1INDUSTRIAL AREA PARWANOO SO...   \n",
       "4  AUTOCARS COMPOUND ADALAT ROAD AURANGABAD MH 43...   \n",
       "\n",
       "                         email_id company_status  number_of_members  \\\n",
       "0            ssl_ssg@glide.net.in         Active                  0   \n",
       "1       corporate@lakshmigroup.in         Active                  0   \n",
       "2   mail@kohinoorbroadcasting.com         Active                  0   \n",
       "3          sachdevakk@hotmail.com         Active                  0   \n",
       "4  secretarial@infotelconnect.com         Active                  0   \n",
       "\n",
       "  date_of_last_agm  authorised_capital whether_listed_or_not  \\\n",
       "0       30/09/2016        2.000000e+08                Listed   \n",
       "1       28/09/2016        2.000000e+08                Listed   \n",
       "2       23/09/2014        1.160000e+09                Listed   \n",
       "3       30/09/2015        6.000000e+07                Listed   \n",
       "4       21/07/2016        1.500000e+10                Listed   \n",
       "\n",
       "  date_of_balance_sheet  paid_up_capital  \n",
       "0            31/03/2016     1.518840e+08  \n",
       "1            31/03/2016     1.399400e+08  \n",
       "2            31/03/2014     1.102060e+09  \n",
       "3            31/03/2015     3.205470e+07  \n",
       "4            31/03/2016     6.122600e+08  "
      ]
     },
     "execution_count": 4,
     "metadata": {},
     "output_type": "execute_result"
    }
   ],
   "source": [
    "companyData.head()\n",
    "#print(set(companyData['class_of_company']))"
   ]
  },
  {
   "cell_type": "code",
   "execution_count": 6,
   "metadata": {},
   "outputs": [],
   "source": [
    "graph = Graph()"
   ]
  },
  {
   "cell_type": "code",
   "execution_count": 7,
   "metadata": {},
   "outputs": [
    {
     "name": "stdout",
     "output_type": "stream",
     "text": [
      "name <class 'str'>\n",
      "companynature <class 'str'>\n",
      "subcategory <class 'str'>\n",
      "incorp_date <class 'str'>\n",
      "uuid <class 'int'>\n",
      "aliases <class 'list'>\n",
      "address <class 'str'>\n",
      "authcap <class 'str'>\n",
      "listing <class 'str'>\n",
      "type <class 'str'>\n",
      "totalincome <class 'float'>\n",
      "status <class 'str'>\n",
      "email <class 'str'>\n",
      "paidupcap <class 'str'>\n",
      "regauth <class 'str'>\n",
      "profit <class 'float'>\n",
      "cin <class 'str'>\n",
      "regnum <class 'str'>\n",
      "\n",
      "name <class 'str'>\n",
      "companynature <class 'str'>\n",
      "subcategory <class 'str'>\n",
      "incorp_date <class 'str'>\n",
      "busscategory <class 'str'>\n",
      "uuid <class 'int'>\n",
      "aliases <class 'list'>\n",
      "address <class 'str'>\n",
      "authcap <class 'str'>\n",
      "listing <class 'str'>\n",
      "type <class 'str'>\n",
      "totalincome <class 'float'>\n",
      "status <class 'str'>\n",
      "email <class 'str'>\n",
      "paidupcap <class 'str'>\n",
      "regauth <class 'str'>\n",
      "profit <class 'float'>\n",
      "cin <class 'str'>\n",
      "regnum <class 'str'>\n",
      "\n",
      "name <class 'str'>\n",
      "companynature <class 'str'>\n",
      "subcategory <class 'str'>\n",
      "incorp_date <class 'str'>\n",
      "busscategory <class 'str'>\n",
      "uuid <class 'int'>\n",
      "aliases <class 'list'>\n",
      "address <class 'str'>\n",
      "authcap <class 'str'>\n",
      "listing <class 'str'>\n",
      "type <class 'str'>\n",
      "totalincome <class 'float'>\n",
      "status <class 'str'>\n",
      "email <class 'str'>\n",
      "paidupcap <class 'str'>\n",
      "regauth <class 'str'>\n",
      "profit <class 'float'>\n",
      "cin <class 'str'>\n",
      "regnum <class 'str'>\n",
      "\n",
      "name <class 'str'>\n",
      "companynature <class 'str'>\n",
      "subcategory <class 'str'>\n",
      "incorp_date <class 'str'>\n",
      "busscategory <class 'str'>\n",
      "uuid <class 'int'>\n",
      "aliases <class 'list'>\n",
      "address <class 'str'>\n",
      "authcap <class 'str'>\n",
      "listing <class 'str'>\n",
      "type <class 'str'>\n",
      "totalincome <class 'float'>\n",
      "status <class 'str'>\n",
      "email <class 'str'>\n",
      "paidupcap <class 'str'>\n",
      "regauth <class 'str'>\n",
      "profit <class 'float'>\n",
      "cin <class 'str'>\n",
      "regnum <class 'str'>\n",
      "\n",
      "name <class 'str'>\n",
      "companynature <class 'str'>\n",
      "subcategory <class 'str'>\n",
      "incorp_date <class 'str'>\n",
      "busscategory <class 'str'>\n",
      "uuid <class 'int'>\n",
      "aliases <class 'list'>\n",
      "address <class 'str'>\n",
      "authcap <class 'str'>\n",
      "listing <class 'str'>\n",
      "type <class 'str'>\n",
      "totalincome <class 'float'>\n",
      "status <class 'str'>\n",
      "email <class 'str'>\n",
      "paidupcap <class 'str'>\n",
      "regauth <class 'str'>\n",
      "profit <class 'float'>\n",
      "cin <class 'str'>\n",
      "regnum <class 'str'>\n",
      "\n"
     ]
    }
   ],
   "source": [
    "company = graph.data('match(c:company) return c limit 5')\n",
    "for c in company:\n",
    "    c = c['c']\n",
    "    for key in c:\n",
    "        print(key,type(c[key]))\n",
    "    print()"
   ]
  },
  {
   "cell_type": "code",
   "execution_count": 8,
   "metadata": {},
   "outputs": [
    {
     "name": "stdout",
     "output_type": "stream",
     "text": [
      "Index(['cin', 'company_name', 'date_of_incorporation', 'class_of_company',\n",
      "       'company_category', 'company_subcategory', 'registration_number',\n",
      "       'roc_code', 'registered_address', 'email_id', 'company_status',\n",
      "       'number_of_members', 'date_of_last_agm', 'authorised_capital',\n",
      "       'whether_listed_or_not', 'date_of_balance_sheet', 'paid_up_capital'],\n",
      "      dtype='object')\n"
     ]
    }
   ],
   "source": [
    "print(companyData.columns)"
   ]
  },
  {
   "cell_type": "code",
   "execution_count": 9,
   "metadata": {
    "collapsed": true
   },
   "outputs": [],
   "source": [
    "rename = {}\n",
    "rename['cin'] = 'cin'\n",
    "rename['company_name'] = 'name'\n",
    "rename['date_of_incorporation'] = 'incorp_date'\n",
    "rename['email_id'] = 'email'\n",
    "rename['whether_listed_or_not'] = 'listing'\n",
    "rename['company_subcategory'] = 'subcategory'\n",
    "rename['company_category'] = 'companynature'\n",
    "rename['authorised_capital'] = 'authcap'\n",
    "rename['registered_address'] = 'address'\n",
    "rename['registration_number'] = 'regnum'\n",
    "rename['class_of_company'] = 'type'\n",
    "rename['company_status'] = 'status'\n",
    "rename['paid_up_capital'] = 'paidupcap'\n",
    "rename['roc_code'] = 'regauth'"
   ]
  },
  {
   "cell_type": "code",
   "execution_count": 10,
   "metadata": {
    "collapsed": true
   },
   "outputs": [],
   "source": [
    "companyData = companyData.rename(columns=rename)"
   ]
  },
  {
   "cell_type": "code",
   "execution_count": 11,
   "metadata": {
    "collapsed": true
   },
   "outputs": [],
   "source": [
    "attributes = list(rename.values())"
   ]
  },
  {
   "cell_type": "code",
   "execution_count": 12,
   "metadata": {},
   "outputs": [
    {
     "name": "stdout",
     "output_type": "stream",
     "text": [
      "['incorp_date', 'regnum', 'regauth', 'authcap', 'type', 'email', 'address', 'status', 'companynature', 'paidupcap', 'listing', 'subcategory', 'cin', 'name']\n"
     ]
    }
   ],
   "source": [
    "print(attributes)"
   ]
  },
  {
   "cell_type": "code",
   "execution_count": 13,
   "metadata": {},
   "outputs": [
    {
     "name": "stdout",
     "output_type": "stream",
     "text": [
      "208928\n"
     ]
    }
   ],
   "source": [
    "maxUUIDQuery = 'match (n) return max(n.uuid) as uuid'\n",
    "result = graph.data(maxUUIDQuery)\n",
    "maxUUID = result[0]['uuid']\n",
    "print(maxUUID)"
   ]
  },
  {
   "cell_type": "code",
   "execution_count": 14,
   "metadata": {},
   "outputs": [
    {
     "name": "stdout",
     "output_type": "stream",
     "text": [
      "Number of companies in database :  [{'c': 64226}]\n"
     ]
    }
   ],
   "source": [
    "#verification\n",
    "countCompanies = 'match (c:company) return count(distinct c) as c'\n",
    "print('Number of companies in database : ', graph.data(countCompanies) )"
   ]
  },
  {
   "cell_type": "code",
   "execution_count": 15,
   "metadata": {
    "collapsed": true
   },
   "outputs": [],
   "source": [
    "#changing roc code from RoC-state to state\n",
    "companyData['regauth'] = companyData['regauth'].apply(lambda x: x.split('-')[1])"
   ]
  },
  {
   "cell_type": "code",
   "execution_count": 16,
   "metadata": {},
   "outputs": [
    {
     "data": {
      "text/plain": [
       "(58817, 17)"
      ]
     },
     "execution_count": 16,
     "metadata": {},
     "output_type": "execute_result"
    }
   ],
   "source": [
    "companyData.shape"
   ]
  },
  {
   "cell_type": "code",
   "execution_count": 17,
   "metadata": {},
   "outputs": [
    {
     "name": "stdout",
     "output_type": "stream",
     "text": [
      "208929 (58817, 17)\n",
      "12000 done\n",
      "13000 done\n",
      "16000 done\n",
      "17000 done\n",
      "21000 done\n",
      "22000 done\n",
      "24000 done\n",
      "27000 done\n",
      "28000 done\n",
      "29000 done\n",
      "30000 done\n",
      "32000 done\n",
      "35000 done\n",
      "40000 done\n",
      "41000 done\n",
      "42000 done\n",
      "43000 done\n",
      "45000 done\n",
      "49000 done\n",
      "50000 done\n",
      "51000 done\n",
      "53000 done\n",
      "56000 done\n",
      "58000 done\n"
     ]
    }
   ],
   "source": [
    "uuid = maxUUID + 1\n",
    "shape = companyData.shape\n",
    "print(uuid, shape)\n",
    "checkIfExist = 'match (c:company) where c.cin=\"{}\" return c'\n",
    "companyPushQuery = 'merge (c1:company {{cin : \"{}\"}}) set c1={{param}} return c1'\n",
    "removeQuery = 'match (c:company) where c.uuid > {} delete c'\n",
    "for i in range(shape[0]):    \n",
    "    params = {'param':{}}\n",
    "    for attr in attributes:\n",
    "        params['param'][attr] = str(companyData.loc[i][attr])\n",
    "    params['param']['uuid'] = uuid\n",
    "    #for k in params['param']:\n",
    "    #    print(k, type(params['param'][k]))\n",
    "    result = graph.data(checkIfExist.format(companyData.loc[i]['cin']))\n",
    "    #print(result)\n",
    "    if len(result) == 0:\n",
    "        #print(i,' Does not Exist')\n",
    "        uuid += 1\n",
    "    else:\n",
    "        continue\n",
    "    #print(result)\n",
    "    graph.run(companyPushQuery.format(companyData.loc[i]['cin']), params)\n",
    "    if i%1000 == 0:\n",
    "        print(i, 'done')\n",
    "    #print(graph.data(removeQuery.format(maxUUID)))"
   ]
  },
  {
   "cell_type": "code",
   "execution_count": 18,
   "metadata": {},
   "outputs": [
    {
     "name": "stdout",
     "output_type": "stream",
     "text": [
      "238116\n"
     ]
    }
   ],
   "source": [
    "print(uuid)"
   ]
  },
  {
   "cell_type": "code",
   "execution_count": 19,
   "metadata": {},
   "outputs": [
    {
     "name": "stdout",
     "output_type": "stream",
     "text": [
      "Number of companies in database :  [{'count(distinct c)': 93413}]\n"
     ]
    }
   ],
   "source": [
    "#verification\n",
    "countCompanies = 'match (c:company) return count(distinct c)'\n",
    "print('Number of companies in database : ' , graph.data(countCompanies))"
   ]
  },
  {
   "cell_type": "code",
   "execution_count": 20,
   "metadata": {},
   "outputs": [
    {
     "data": {
      "text/plain": [
       "29188"
      ]
     },
     "execution_count": 20,
     "metadata": {},
     "output_type": "execute_result"
    }
   ],
   "source": [
    "uuid - maxUUID"
   ]
  },
  {
   "cell_type": "code",
   "execution_count": null,
   "metadata": {
    "collapsed": true
   },
   "outputs": [],
   "source": []
  }
 ],
 "metadata": {
  "kernelspec": {
   "display_name": "Python 3",
   "language": "python",
   "name": "python3"
  },
  "language_info": {
   "codemirror_mode": {
    "name": "ipython",
    "version": 3
   },
   "file_extension": ".py",
   "mimetype": "text/x-python",
   "name": "python",
   "nbconvert_exporter": "python",
   "pygments_lexer": "ipython3",
   "version": "3.5.2"
  }
 },
 "nbformat": 4,
 "nbformat_minor": 2
}
