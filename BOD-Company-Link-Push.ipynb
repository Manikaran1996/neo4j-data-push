{
 "cells": [
  {
   "cell_type": "code",
   "execution_count": 1,
   "metadata": {
    "collapsed": true
   },
   "outputs": [],
   "source": [
    "from py2neo import Graph, Node, Relationship, cypher\n",
    "import pandas as pd\n",
    "import numpy"
   ]
  },
  {
   "cell_type": "code",
   "execution_count": 2,
   "metadata": {
    "collapsed": true
   },
   "outputs": [],
   "source": [
    "newLinksFile = 'mgmt1.csv'\n",
    "graph = Graph()"
   ]
  },
  {
   "cell_type": "code",
   "execution_count": 3,
   "metadata": {},
   "outputs": [
    {
     "name": "stdout",
     "output_type": "stream",
     "text": [
      "Index(['din', 'cin', 'startdate', 'enddate'], dtype='object')\n"
     ]
    }
   ],
   "source": [
    "newLinks = pd.read_csv(newLinksFile, delimiter=',')\n",
    "print(newLinks.columns)"
   ]
  },
  {
   "cell_type": "code",
   "execution_count": 4,
   "metadata": {},
   "outputs": [
    {
     "data": {
      "text/html": [
       "<div>\n",
       "<style scoped>\n",
       "    .dataframe tbody tr th:only-of-type {\n",
       "        vertical-align: middle;\n",
       "    }\n",
       "\n",
       "    .dataframe tbody tr th {\n",
       "        vertical-align: top;\n",
       "    }\n",
       "\n",
       "    .dataframe thead th {\n",
       "        text-align: right;\n",
       "    }\n",
       "</style>\n",
       "<table border=\"1\" class=\"dataframe\">\n",
       "  <thead>\n",
       "    <tr style=\"text-align: right;\">\n",
       "      <th></th>\n",
       "      <th>din</th>\n",
       "      <th>cin</th>\n",
       "      <th>startdate</th>\n",
       "      <th>enddate</th>\n",
       "    </tr>\n",
       "  </thead>\n",
       "  <tbody>\n",
       "    <tr>\n",
       "      <th>0</th>\n",
       "      <td>00006755</td>\n",
       "      <td>U28910PN2007PTC131007</td>\n",
       "      <td>2007-11-20</td>\n",
       "      <td>-</td>\n",
       "    </tr>\n",
       "    <tr>\n",
       "      <th>1</th>\n",
       "      <td>02559409</td>\n",
       "      <td>U74900WB2014PTC201980</td>\n",
       "      <td>2016-11-11</td>\n",
       "      <td>-</td>\n",
       "    </tr>\n",
       "    <tr>\n",
       "      <th>2</th>\n",
       "      <td>01645731</td>\n",
       "      <td>U74899DL1998PLC093329</td>\n",
       "      <td>1998-04-20</td>\n",
       "      <td>-</td>\n",
       "    </tr>\n",
       "    <tr>\n",
       "      <th>3</th>\n",
       "      <td>00037571</td>\n",
       "      <td>U70101MH1997PTC109823</td>\n",
       "      <td>2011-06-10</td>\n",
       "      <td>-</td>\n",
       "    </tr>\n",
       "    <tr>\n",
       "      <th>4</th>\n",
       "      <td>00211074</td>\n",
       "      <td>U67190KA2012PTC063050</td>\n",
       "      <td>2012-03-15</td>\n",
       "      <td>-</td>\n",
       "    </tr>\n",
       "  </tbody>\n",
       "</table>\n",
       "</div>"
      ],
      "text/plain": [
       "        din                    cin   startdate enddate\n",
       "0  00006755  U28910PN2007PTC131007  2007-11-20       -\n",
       "1  02559409  U74900WB2014PTC201980  2016-11-11       -\n",
       "2  01645731  U74899DL1998PLC093329  1998-04-20       -\n",
       "3  00037571  U70101MH1997PTC109823  2011-06-10       -\n",
       "4  00211074  U67190KA2012PTC063050  2012-03-15       -"
      ]
     },
     "execution_count": 4,
     "metadata": {},
     "output_type": "execute_result"
    }
   ],
   "source": [
    "newLinks.head()"
   ]
  },
  {
   "cell_type": "code",
   "execution_count": 5,
   "metadata": {},
   "outputs": [
    {
     "name": "stdout",
     "output_type": "stream",
     "text": [
      "CIN F03989\n",
      "CIN F01756\n",
      "CIN F02969\n",
      "CIN F01756\n",
      "CIN F01756\n",
      "CIN F02969\n",
      "CIN F01756\n",
      "CIN F01756\n",
      "CIN F01756\n",
      "CIN F01756\n",
      "CIN F01756\n",
      "CIN F01756\n",
      "CIN F01756\n",
      "CIN F03190\n",
      "CIN F02969\n",
      "CIN F04070\n",
      "CIN F02969\n",
      "CIN F03801\n",
      "CIN F04070\n",
      "CIN F03190\n",
      "CIN F02969\n",
      "CIN F03295\n",
      "CIN F03989\n",
      "CIN F01756\n"
     ]
    }
   ],
   "source": [
    "# checking which companies exist in the database \n",
    "companiesNotInDatabase = []\n",
    "count = 0 \n",
    "query = \"match (n:company) where n.cin = '{}' return n.name\"\n",
    "for i,cin in enumerate(newLinks['cin']):\n",
    "    data = graph.data(query.format(cin))\n",
    "    if len(data) == 0:\n",
    "        count += 1\n",
    "        companiesNotInDatabase.append(newLinks.iloc[i][1])\n",
    "        print('CIN', newLinks.iloc[i][1])"
   ]
  },
  {
   "cell_type": "code",
   "execution_count": 6,
   "metadata": {},
   "outputs": [
    {
     "name": "stdout",
     "output_type": "stream",
     "text": [
      "Total number of  links to be added = 230250\n",
      "Total relations in which companies are not in database :  24\n",
      "Distinct companies to be added to database :  7\n"
     ]
    }
   ],
   "source": [
    "print('Total number of  links to be added = {}'.format(newLinks.shape[0]))\n",
    "print('Total relations in which companies are not in database : ',len(companiesNotInDatabase))\n",
    "uniqueCompanies = list(set(companiesNotInDatabase))\n",
    "print('Distinct companies to be added to database : ', len(uniqueCompanies))"
   ]
  },
  {
   "cell_type": "code",
   "execution_count": 7,
   "metadata": {
    "collapsed": true
   },
   "outputs": [],
   "source": [
    "df = pd.DataFrame({'cin':uniqueCompanies})\n",
    "df.to_csv('companiesNotInDatabase.csv')"
   ]
  },
  {
   "cell_type": "code",
   "execution_count": 8,
   "metadata": {
    "collapsed": true
   },
   "outputs": [],
   "source": [
    "# getting max relation ID \n",
    "maxRelIdQuery = 'match () -[r]-> () return max(r.relid)'\n",
    "result = graph.data(maxRelIdQuery)"
   ]
  },
  {
   "cell_type": "code",
   "execution_count": 9,
   "metadata": {
    "collapsed": true
   },
   "outputs": [],
   "source": [
    "maxRelId = result[0]['max(r.relid)']"
   ]
  },
  {
   "cell_type": "code",
   "execution_count": 10,
   "metadata": {},
   "outputs": [
    {
     "name": "stdout",
     "output_type": "stream",
     "text": [
      "497106\n"
     ]
    }
   ],
   "source": [
    "print(maxRelId)"
   ]
  },
  {
   "cell_type": "code",
   "execution_count": 11,
   "metadata": {
    "scrolled": true
   },
   "outputs": [
    {
     "name": "stdout",
     "output_type": "stream",
     "text": [
      "F03989  company does not exist\n",
      "F01756  company does not exist\n",
      "F02969  company does not exist\n",
      "F01756  company does not exist\n",
      "F01756  company does not exist\n",
      "F02969  company does not exist\n",
      "F01756  company does not exist\n",
      "F01756  company does not exist\n",
      "F01756  company does not exist\n",
      "F01756  company does not exist\n",
      "F01756  company does not exist\n",
      "F01756  company does not exist\n",
      "F01756  company does not exist\n",
      "F03190  company does not exist\n",
      "F02969  company does not exist\n",
      "F04070  company does not exist\n",
      "F02969  company does not exist\n",
      "F03801  company does not exist\n",
      "F04070  company does not exist\n",
      "F03190  company does not exist\n",
      "F02969  company does not exist\n",
      "F03295  company does not exist\n",
      "F03989  company does not exist\n",
      "F01756  company does not exist\n",
      "122020\n"
     ]
    }
   ],
   "source": [
    "import calendar\n",
    "import time\n",
    "import json\n",
    "checkBusinessperson = \"match (b:businessperson) where b.din = '{}' return b\"\n",
    "checkCompany = \"match (c:company) where c.cin = '{}' return c\"\n",
    "linkQuery = \"match (b:businessperson), (c:company) where b.din='{}' and c.cin='{}' merge (b)-[r:worksin]-> (c) on create set r= {{props}} return r.relid as x\"\n",
    "checkQuery = \"match (b:businessperson) -[r:worksin]-> (c:company) where b.din = '{}' and c.cin = '{}' return r\"\n",
    "removeQuery = \"match (b:businessperson) -[r:worksin]-> (c:company) where b.din='{}' and c.cin='{}' and r.relid > {} delete r\"\n",
    "newLinks['din'] = newLinks['din'].apply(lambda x: str(x).zfill(8))\n",
    "relId = maxRelId + 1\n",
    "c = 0\n",
    "for i in range(newLinks.shape[0]):\n",
    "    res = graph.data(checkQuery.format(newLinks.iloc[i]['din'], newLinks.iloc[i]['cin']))\n",
    "    if len(res) > 0:\n",
    "        #print(i,'Already Exists')\n",
    "        c += 1\n",
    "        continue\n",
    "    params = {}\n",
    "    props = {}\n",
    "    props['relid'] = relId\n",
    "    props['designation'] = 'Director'\n",
    "    props['bidirectional'] = 'false'\n",
    "    props['startdate'] = str(calendar.timegm(time.strptime(newLinks.iloc[i]['startdate'], '%Y-%m-%d')))\n",
    "    if newLinks.iloc[i]['enddate'] == '-':\n",
    "        props['iscurrent'] = 'true'\n",
    "        props['enddate'] = '0'\n",
    "    else:\n",
    "        props['iscurrent'] = 'false'\n",
    "        props['enddate'] = str(calendar.timegm(time.strptime(newLinks.iloc[i]['enddate'], '%d/%m/%Y')))\n",
    "    params['props'] = props\n",
    "    res = graph.data(checkBusinessperson.format(newLinks.iloc[i]['din']))\n",
    "    if len(res) == 0:\n",
    "        print(newLinks.iloc[i]['din'] , ' business person does not exist')\n",
    "        continue\n",
    "    res = graph.data(checkCompany.format(newLinks.iloc[i]['cin']))\n",
    "    if len(res) == 0:\n",
    "        print(newLinks.iloc[i]['cin'] , ' company does not exist')\n",
    "        continue\n",
    "    #print(graph.data(removeQuery.format(newLinks.iloc[i][1], newLinks.iloc[i][2], maxRelId)))\n",
    "    res = graph.data(linkQuery.format(newLinks.iloc[i]['din'], newLinks.iloc[i]['cin']), params)\n",
    "    if len(res) > 0:\n",
    "        relId += 1\n",
    "print(c)"
   ]
  },
  {
   "cell_type": "code",
   "execution_count": 12,
   "metadata": {},
   "outputs": [
    {
     "name": "stdout",
     "output_type": "stream",
     "text": [
      "Already existing relations  122020\n",
      "Total relations to push  230250\n"
     ]
    }
   ],
   "source": [
    "print('Already existing relations ', c)\n",
    "print('Total relations to push ', newLinks.shape[0])"
   ]
  },
  {
   "cell_type": "code",
   "execution_count": 13,
   "metadata": {},
   "outputs": [
    {
     "name": "stdout",
     "output_type": "stream",
     "text": [
      "Relations pushed =  108206\n"
     ]
    }
   ],
   "source": [
    "# getting max relation ID \n",
    "maxRelIdQuery = 'match () -[r]-> () return max(r.relid)'\n",
    "maxRelIdAfterPush = graph.data(maxRelIdQuery)[0].get('max(r.relid)')\n",
    "print('Relations pushed = ', maxRelIdAfterPush - maxRelId)"
   ]
  },
  {
   "cell_type": "code",
   "execution_count": 14,
   "metadata": {},
   "outputs": [
    {
     "name": "stdout",
     "output_type": "stream",
     "text": [
      "497107 [{'n.name': 'SHIVAJI TUKARAM AKHADE', 'c.name': 'VIMAL EXTRUSIONS PRIVATE LIMITED'}]\n",
      "497108 [{'n.name': 'SANDIP KUMAR SINGH', 'c.name': 'FLYTECH CREATIONS PRIVATE LIMITED'}]\n",
      "497109 [{'n.name': 'MANISH VIMALKUMAR JAIN', 'c.name': 'TRISMA CONSTRUCTIONS PRIVATE LIMITED'}]\n",
      "497110 [{'n.name': 'SUBBA RAO TELIDEVARA', 'c.name': 'LOTUSPOOL CAPITAL ADVISORS PRIVATE LIMITED'}]\n",
      "497111 [{'n.name': 'VIKAS BAJAJ', 'c.name': 'ASSOCIATION OF INDIAN FORGING INDUSTRY'}]\n",
      "497112 [{'n.name': 'RAMA MURTHY BOLLINA', 'c.name': 'GRM PROJECTS & CONSTRUCTIONS PRIVATE LIMITED'}]\n",
      "497113 [{'n.name': 'LEENA VIPUL MODI', 'c.name': 'JIMEET DEVELOPERS PRIVATE LIMITED'}]\n",
      "497114 [{'n.name': 'KIRTI KUMAR DOSHI', 'c.name': 'DOSHI CONSULTANTS PRIVATE LIMITED'}]\n",
      "497115 [{'n.name': 'ADABALA SRIDHAR', 'c.name': 'SRI SRINIVASA AQUA FEEDS PRIVATE LIMITED'}]\n",
      "497116 [{'n.name': 'PRADEEP KUMAR JINDAL', 'c.name': 'TRUE FAB ENGINEERS PRIVATE LIMITED'}]\n",
      "497117 [{'n.name': 'NARINDERPAL ROSHANLAL GUPTA', 'c.name': 'HOUSING PROJECTS AND REALTY DEVELOPERS PRIVATE LIMITED'}]\n",
      "497118 [{'n.name': 'KRISHNA KUMAR BANGUR', 'c.name': 'BCC MERCANTILE LIMITED'}]\n",
      "497119 [{'n.name': 'BISHWANATH SHUKLA', 'c.name': 'GREEN INFRA WIND VENTURES LIMITED'}]\n",
      "497120 [{'n.name': 'SHIPRA KUMAR', 'c.name': 'THE INDIAN TEXTILES COMPANY (KOLKATA) PRIVATE LIMITED'}]\n",
      "497121 [{'n.name': 'PRONOY BHATTACHARYA', 'c.name': 'P.K. BIO-LINK PRIVATE LIMITED'}]\n",
      "497122 [{'n.name': 'ANOOPCHAND TARACHAND BOTHRA', 'c.name': 'KESHRI GEMS EXPORTS PRIVATE LIMITED'}]\n",
      "497123 [{'n.name': 'SOUVIK DAS', 'c.name': 'BISWANATH TIE UP PRIVATE LIMITED'}]\n",
      "497124 [{'n.name': 'PRATAP SINGH TALESARA', 'c.name': 'TEMPSENS INSTRUMENTS (INDIA) PRIVATE LIMITED'}]\n",
      "497125 [{'n.name': 'VIJAY KUMAR MAISTRY', 'c.name': 'TEJA NATURAL RESOURCES PRIVATE LIMITED'}]\n",
      "497126 [{'n.name': 'SAMRISH BHANJA', 'c.name': 'FIDESSA TRADING SYSTEMS PRIVATE LIMITED'}]\n",
      "497127 [{'n.name': 'MAHENDRA KUMAR BHOLAN YADAV', 'c.name': 'ORBIT EVOLVE DEVELOPVERS PRIVATE LIMITED'}]\n",
      "497128 [{'n.name': 'NILESH JAIN', 'c.name': 'N BABULAL AND COMPANY PVT LTD'}]\n",
      "497129 [{'n.name': 'UMESH PRAVINCHANDRA PAREKH', 'c.name': 'BELAZIO REAL ESTATE PRIVATE LIMITED'}]\n",
      "497130 [{'n.name': 'PARIMAL AJMERA', 'c.name': 'SOUTH CITY RETREAT PROPERTY MANAGEMENT PRIVATE LIMITED'}]\n",
      "497131 [{'n.name': 'SANJAY CHANDRAKANT DESAI', 'c.name': 'MASCO HOME PRODUCTS PRIVATE LIMITED'}]\n",
      "497132 [{'n.name': 'ATUL JAIN', 'c.name': 'SILVER GLADES INVESTMENTS PRIVATE LIMITED'}]\n",
      "497133 [{'n.name': 'MANOJ KUMAR SHARMA', 'c.name': 'SHIVMANGAL STOCK MANAGEMENT PRIVATE LIMITED'}]\n",
      "497134 [{'n.name': 'JATIN JAYANTILAL CHOKSHI', 'c.name': 'SOUTHERN TERMINAL AND TRADING PRIVATE LIMITED'}]\n",
      "497135 [{'n.name': 'GAURAV GUPTA', 'c.name': 'INVEST KARNATAKA FORUM'}]\n",
      "497136 [{'n.name': 'BHADERESH JITENDRA JHAVERI', 'c.name': 'JHAVERI SECURITIES LIMITED'}]\n",
      "497137 [{'n.name': 'HIMANSHU JAYANTBHAI SHAH', 'c.name': 'ERIS LIFESCIENCES LIMITED'}]\n",
      "497138 [{'n.name': 'SUNNY VARKEY', 'c.name': 'GEMS EDUCATION SOLUTIONS INDIA PRIVATE LIMITED'}]\n",
      "497139 [{'n.name': 'CHANGAVALLI VENKAT', 'c.name': 'ANDHRA PRADESH BRAHMIN WELFARE CORPORATION'}]\n",
      "497140 [{'n.name': 'SHIVANI SANIL SAHU', 'c.name': 'VISHWA EXTRUSION PVT LTD'}]\n",
      "497141 [{'n.name': 'RAJ KUMAR THARAD', 'c.name': 'VIBHAVARI TRADING PRIVATE LIMITED'}]\n",
      "497142 [{'n.name': 'PAVAN ANIL BAKERI', 'c.name': 'ALGAARI RETAIL VENTURES PRIVATE LIMITED'}]\n",
      "497143 [{'n.name': 'SUSANTA DOLUI', 'c.name': 'RELAX COMMOSALES PRIVATE LIMITED'}]\n",
      "497144 [{'n.name': 'KURUPPATH NARAYANAN KUTTY', 'c.name': 'SUGATA INVESTMENTS LIMITED'}]\n",
      "497145 [{'n.name': 'PAVAN SACHDEVA', 'c.name': 'SCB INFOTECH PRIVATE LIMITED'}]\n",
      "497146 [{'n.name': 'VEERAVENKATA SATYANARAYANA PINNAMANENI', 'c.name': 'PINNAMANENI HOLDINGS PRIVATE LIMITED'}]\n",
      "497147 [{'n.name': 'Shri V. Amuthavalli', 'c.name': 'TAMILNADU SALT CORPORATION LIMITED'}]\n",
      "497148 [{'n.name': 'RAJAGOPALAN RAJAGOPALAN SUBRAMANIAM', 'c.name': 'HSBC INVESTDIRECT FINANCIAL SERVICES (INDIA) LIMITED'}]\n",
      "497149 [{'n.name': 'SARAVANAN VENKATESAN', 'c.name': 'BUNIYAD MARKETING PRIVATE LIMITED'}]\n",
      "497150 [{'n.name': 'RADHA RANI MAHESHWARI', 'c.name': 'DIAMOND BUSINESS SOLUTIONS PRIVATE LIMITED'}]\n",
      "497151 [{'n.name': 'ROHIT GUPTA', 'c.name': 'DOON VALLEY TRUST'}]\n",
      "497152 [{'n.name': 'SUBHASIS ROY', 'c.name': 'REGUS BUSINESS CENTRE AHMEDABAD PRIVATE LIMITED'}]\n",
      "497153 [{'n.name': 'SANJEEV AGRAWAL', 'c.name': 'LUMAX BUILDERS PRIVATE LIMITED'}]\n",
      "497154 [{'n.name': 'KRISHNAMOORTHY VENKATRAMAN', 'c.name': 'CORPORATE CATALYST INDIA PRIVATE LIMITED'}]\n",
      "497155 [{'n.name': 'VIRENDER KUMAR AGARWAL', 'c.name': 'AGATHA DEVELOPERS PRIVATE LIMITED'}]\n",
      "497156 [{'n.name': 'KALLURI CHENCHI REDDY', 'c.name': 'RAMKY ENERGY AND ENVIRONMENT LIMITED'}]\n",
      "497157 [{'n.name': 'MANMOHAN RANJITSINGH MEHTA', 'c.name': 'MANRAJ PROJECTS PRIVATE LIMITED'}]\n",
      "497158 [{'n.name': 'SHEETAL JAIN', 'c.name': 'ORION BUILDMAT PRIVATE LIMITED'}]\n",
      "497159 [{'n.name': 'MANOHARAN SAROJA RAJENDRAN', 'c.name': 'NABKISAN FINANCE LIMITED'}]\n",
      "497160 [{'n.name': 'SHASHI AGGARWAL', 'c.name': \"KUMAR'S SPIRITS PRIVATE LIMITED.\"}]\n",
      "497161 [{'n.name': 'PARMINDER SINGH JASSAL', 'c.name': 'WELSPUN SOLAR TECH PRIVATE LIMITED'}]\n",
      "497162 [{'n.name': 'KUSUMANCHI PARAMESWARA RAO', 'c.name': 'RAXA SECURITY SERVICES LIMITED'}]\n",
      "497163 [{'n.name': 'HEMANT KHANDELWAL', 'c.name': 'NIHO BUILDWELL LIMITED'}]\n",
      "497164 [{'n.name': 'SMRITI RANKA', 'c.name': 'PRIDE MERCANTILES PRIVATE LIMITED'}]\n",
      "497165 [{'n.name': 'SAJJADHUSSEIN MOHAMMEDHUSSEIN NATHANI', 'c.name': 'NATHANI ESTATES AND PROPERTIES PRIVATE LIMITED'}]\n",
      "497166 [{'n.name': 'S R VENKATESAN', 'c.name': 'TATA ADVANCED SYSTEMS LIMITED'}]\n",
      "497167 [{'n.name': 'AJAY KAPOOR', 'c.name': 'AASARA COLONISERS & DEVELOPERS PRIVATE LIMITED'}]\n",
      "497168 [{'n.name': 'SUMIT NANDA', 'c.name': 'BURMAN GSC FUND MANAGEMENT PRIVATE LIMITED'}]\n",
      "497169 [{'n.name': 'RAVISHANKAR KEERTHAPATI RAMARAJU', 'c.name': 'ARCOLAB (INDIA) P.LTD.'}]\n",
      "497170 [{'n.name': 'SHRAVANI NARSIMHA RAO VUNGARALA', 'c.name': 'RELIGARE WEALTH MANAGEMENT LIMITED'}]\n",
      "497171 [{'n.name': 'RAVELA SRISATYA LAKSHMI NARSIMHA BHASKARUDU', 'c.name': 'GMR HYDERABAD INTERNATIONAL AIRPORT LIMITED'}]\n",
      "497172 [{'n.name': 'RAJASEKAR RAMARAJ', 'c.name': 'VILLGRO INNOVATIONS FOUNDATION'}]\n",
      "497173 [{'n.name': 'ANNIE MEHTA', 'c.name': 'CONSUMMATE PHARMACEUTICALS PRIVATE LIMITED'}]\n",
      "497174 [{'n.name': 'Shri Jayant Parimal', 'c.name': 'ADANI GREEN ENERGY LIMITED'}]\n",
      "497175 [{'n.name': 'UMA SHASHIKANT TULSIAN', 'c.name': 'UPTREND SECURITIES PRIVATE LIMITED'}]\n",
      "497176 [{'n.name': 'RAJESH RAMKALA GUPTA', 'c.name': 'CONCEPT COMMUNICATION LIMITED'}]\n",
      "497177 [{'n.name': 'DEEPAK SETHI', 'c.name': 'LUDHIANA TALWANDI TOLL ROADS PRIVATE LIMITED'}]\n",
      "497178 [{'n.name': 'PRACHI SATVIK AGRAWAL', 'c.name': 'SYNERGY COMMODITIES PRIVATE LIMITED'}]\n",
      "497179 [{'n.name': 'VINOD GARG', 'c.name': 'ALLYIS INDIA PRIVATE LIMITED'}]\n",
      "497180 [{'n.name': 'DHANANJAY KRISHNAJI JOSHI', 'c.name': 'YEDESHI AURANGABAD TOLLWAY PRIVATE LIMITED'}]\n",
      "497181 [{'n.name': 'RAGHAV GOEL', 'c.name': 'OM PROCESSORS PRIVATE LIMITED'}]\n",
      "497182 [{'n.name': 'ABHASH JAIN', 'c.name': 'C P PAPER PRIVATE LIMITED'}]\n",
      "497183 [{'n.name': 'VICKRAM ANANTRAI DOSSHI', 'c.name': 'ATCOMAART SERVICES LIMITED'}]\n",
      "497184 [{'n.name': 'GOURINENI VIKRAMADITHYA', 'c.name': 'AMARA RAJA INDUSTRIAL SERVICES PRIVATE LIMITED'}]\n",
      "497185 [{'n.name': 'GITADEVI BISHWANATH BUBNA', 'c.name': 'BUBNA TRADING COMPANY PRIVATE LIMITED'}]\n",
      "497186 [{'n.name': 'ANKIT RAJIV SOMANI', 'c.name': 'GANESH AGROFARMS PRIVATE LIMITED'}]\n",
      "497187 [{'n.name': 'DINESH HIRACHAND MUNOT', 'c.name': 'YELBEN ENGINEERING PRIVATE LIMITED'}]\n",
      "497188 [{'n.name': 'RAMESH KUMAR RAI', 'c.name': 'KINGDOM EXPORTS INTERNATIONAL PRIVATE LIMITED'}]\n",
      "497189 [{'n.name': 'RAMSWAROOP RADHESHYAM THARD', 'c.name': 'RAJSHREE POLYPACK PRIVATE LIMITED'}]\n",
      "497190 [{'n.name': 'SIVAKUMAR PICHAKUPPAN', 'c.name': 'RAJSRIYA AUTOMOTIVE INDUSTRIES PRIVATE LIMITED'}]\n",
      "497191 [{'n.name': 'SHANTA PATIL DATTATRAY', 'c.name': 'RAJDATT SECURITIES LIMITED'}]\n",
      "497192 [{'n.name': 'RAJENDRAN AMUDHA', 'c.name': 'SRI GANAPATHY FINLEASE LIMITED'}]\n",
      "497193 [{'n.name': 'RAJEEV PRABHAKAR PITKAR', 'c.name': 'LAKISHA INFRASTRUCTURE LIMITED'}]\n",
      "497194 [{'n.name': 'NARESH CHAND', 'c.name': 'LOHMAN MANUFACTURING PRIVATE LIMITED'}]\n",
      "497195 [{'n.name': 'NISHANT GARODIA', 'c.name': 'STARK STEEL PRIVATE LIMITED'}]\n"
     ]
    },
    {
     "name": "stdout",
     "output_type": "stream",
     "text": [
      "497196 [{'n.name': 'SURESHKUMAR SHASTRY VEMURI', 'c.name': 'INTEGRATED THERMOPLASTICS LIMITED'}]\n",
      "497197 [{'n.name': 'SEEMA GUPTA', 'c.name': 'R D P FINANCE PRIVATE LIMITED'}]\n",
      "497198 [{'n.name': 'RAJ KUMAR SHARMA', 'c.name': 'BRIGHTFUL RETAILERS PRIVATE LIMITED'}]\n",
      "497199 [{'n.name': 'PRADEEP KUMAR GARG', 'c.name': 'ASTHA TRADELINK LIMITED'}]\n",
      "497200 [{'n.name': 'ANAND AGARWAL', 'c.name': 'HR EXPLORATION PRIVATE LIMITED'}]\n",
      "497201 [{'n.name': 'YARLAGADDA PADMANABHA PRASAD SRIMANTHRAJA', 'c.name': 'STARSCAPE COMMUNICATIONS PRIVATE LIMITED'}]\n",
      "497202 [{'n.name': 'VIJAY JAMNOMAL SHEWAKRAMANI', 'c.name': 'R P HOTELS AND RESTAURANTS PVT LTD'}]\n",
      "497203 [{'n.name': 'SHARAT CHANDRA BOLUSANI', 'c.name': 'ADVANTA LIMITED'}]\n",
      "497204 [{'n.name': 'SANDEEP KOHLI', 'c.name': 'THE INDIAN SOCIETY OF ADVERTISERS'}]\n",
      "497205 [{'n.name': 'HARI SHANKAR BHARTIA', 'c.name': 'JUBILANT OFFSHORE PRIVATE LIMITED'}]\n",
      "497206 [{'n.name': 'SMITA JAIN', 'c.name': 'LMC ENTERPRISES PRIVATE LIMITED'}]\n"
     ]
    }
   ],
   "source": [
    "checkQuery = 'match (n:businessperson) -[r:worksin] -> (c) where r.relid = {} return n.name, c.name'\n",
    "for i in range(maxRelId+1, maxRelId+101):\n",
    "    print(i, graph.data(checkQuery.format(i)))"
   ]
  },
  {
   "cell_type": "code",
   "execution_count": null,
   "metadata": {
    "collapsed": true
   },
   "outputs": [],
   "source": []
  }
 ],
 "metadata": {
  "kernelspec": {
   "display_name": "Python 3",
   "language": "python",
   "name": "python3"
  },
  "language_info": {
   "codemirror_mode": {
    "name": "ipython",
    "version": 3
   },
   "file_extension": ".py",
   "mimetype": "text/x-python",
   "name": "python",
   "nbconvert_exporter": "python",
   "pygments_lexer": "ipython3",
   "version": "3.5.2"
  }
 },
 "nbformat": 4,
 "nbformat_minor": 2
}
